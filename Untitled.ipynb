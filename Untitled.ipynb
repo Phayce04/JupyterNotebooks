{
 "cells": [
  {
   "cell_type": "code",
   "execution_count": 2,
   "id": "21475576-e969-4862-b647-7f5eb46ed66d",
   "metadata": {},
   "outputs": [
    {
     "name": "stdout",
     "output_type": "stream",
     "text": [
      "Quadratic Equation Grapher\n",
      "Equation format: ax^2 + bx + c\n"
     ]
    },
    {
     "name": "stdin",
     "output_type": "stream",
     "text": [
      "Enter the coefficient a:  3x^2+5x+5\n"
     ]
    },
    {
     "name": "stdout",
     "output_type": "stream",
     "text": [
      "Invalid input! Please enter numeric coefficients.\n"
     ]
    }
   ],
   "source": [
    "import matplotlib.pyplot as plt\n",
    "import numpy as np\n",
    "\n",
    "def quadratic_to_vertex(a, b, c):\n",
    "    h = -b / (2 * a)\n",
    "    k = a * h**2 + b * h + c\n",
    "    return h, k\n",
    "\n",
    "def quadratic_equation():\n",
    "    print(\"Quadratic Equation Grapher\")\n",
    "    print(\"Equation format: ax^2 + bx + c\")\n",
    "    \n",
    "    try:\n",
    "        a = float(input(\"Enter the coefficient a: \"))\n",
    "        b = float(input(\"Enter the coefficient b: \"))\n",
    "        c = float(input(\"Enter the constant c: \"))\n",
    "\n",
    "        if a == 0:\n",
    "            print(\"This is not a quadratic equation (a cannot be 0).\")\n",
    "            return\n",
    "\n",
    "        h, k = quadratic_to_vertex(a, b, c)\n",
    "        print(f\"\\nVertex Form: y = {a}(x - {h})^2 + {k}\")\n",
    "        print(f\"Vertex: ({h}, {k})\")\n",
    "\n",
    "        x_values = np.arange(int(h) - 5, int(h) + 6, 1)\n",
    "        y_values = [a * x**2 + b * x + c for x in x_values]\n",
    "\n",
    "        print(\"\\nPoints:\")\n",
    "        print(f\"{'x':>5} {'y':>10}\")\n",
    "        for x, y in zip(x_values, y_values):\n",
    "            print(f\"{x:>5} {y:>10.2f}\")\n",
    "\n",
    "        x_plot = np.linspace(h - 6, h + 6, 500)\n",
    "        y_plot = a * x_plot**2 + b * x_plot + c\n",
    "        \n",
    "        plt.plot(x_plot, y_plot, label=f\"y = {a}x² + {b}x + {c}\")\n",
    "        plt.scatter(x_values, y_values, color=\"red\", label=\"Points\")\n",
    "        plt.scatter([h], [k], color=\"blue\", label=\"Vertex\", zorder=5)\n",
    "\n",
    "        plt.axhline(0, color='black', linewidth=0.5)\n",
    "        plt.axvline(0, color='black', linewidth=0.5)\n",
    "        plt.grid(color='gray', linestyle='--', linewidth=0.5)\n",
    "        plt.title(\"Graph of the Quadratic Equation\")\n",
    "        plt.xlabel(\"x\")\n",
    "        plt.ylabel(\"y\")\n",
    "        plt.legend()\n",
    "        plt.show()\n",
    "\n",
    "    except ValueError:\n",
    "        print(\"Invalid input! Please enter numeric coefficients.\")\n",
    "\n",
    "quadratic_equation()\n",
    "\n"
   ]
  },
  {
   "cell_type": "code",
   "execution_count": null,
   "id": "c642db5a-dfc6-487c-861a-fdc4aaa2c50f",
   "metadata": {},
   "outputs": [],
   "source": []
  }
 ],
 "metadata": {
  "kernelspec": {
   "display_name": "Python 3 (ipykernel)",
   "language": "python",
   "name": "python3"
  },
  "language_info": {
   "codemirror_mode": {
    "name": "ipython",
    "version": 3
   },
   "file_extension": ".py",
   "mimetype": "text/x-python",
   "name": "python",
   "nbconvert_exporter": "python",
   "pygments_lexer": "ipython3",
   "version": "3.12.3"
  }
 },
 "nbformat": 4,
 "nbformat_minor": 5
}
